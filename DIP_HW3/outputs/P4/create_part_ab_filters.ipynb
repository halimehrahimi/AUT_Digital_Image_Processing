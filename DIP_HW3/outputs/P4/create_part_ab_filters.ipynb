{
 "cells": [
  {
   "cell_type": "code",
   "execution_count": 1,
   "metadata": {},
   "outputs": [],
   "source": [
    "from skimage import io,transform\n",
    "import glob\n",
    "import numpy as np\n",
    "import cv2\n",
    "import matplotlib.pyplot as plt\n",
    "import pandas as pd"
   ]
  },
  {
   "cell_type": "code",
   "execution_count": 2,
   "metadata": {},
   "outputs": [
    {
     "name": "stdout",
     "output_type": "stream",
     "text": [
      "importing train images\n"
     ]
    }
   ],
   "source": [
    "print('importing train images')\n",
    "path = 'F://Uni/992/Digital Image Processing/Homeworks/DIP_HW3/inputs/P4/test2/'\n",
    "train = []\n",
    "gender = ['M', 'W']\n",
    "for gen in gender:\n",
    "    for i in range(1,10):\n",
    "        trainlist=[]\n",
    "        for j in range(1,8):\n",
    "            img = io.imread(path + gen+\"-00\"+ str(i)+\"-0\"+str(j)+ \".bmp\")\n",
    "            img = cv2.cvtColor(img, cv2.COLOR_BGR2GRAY)\n",
    "            fft_img = np.fft.fft2(img)\n",
    "            fft_img = fft_img.ravel()\n",
    "            trainlist.append(fft_img)\n",
    "        train.append(np.array(trainlist))\n",
    "    for i in range(10,51):\n",
    "        trainlist=[]\n",
    "        for j in range(1,8):\n",
    "            img = io.imread(path +gen+ \"-0\"+ str(i)+\"-0\"+str(j)+ \".bmp\")\n",
    "            img = cv2.cvtColor(img, cv2.COLOR_BGR2GRAY)\n",
    "            fft_img = np.fft.fft2(img)\n",
    "            fft_img = fft_img.ravel()\n",
    "            trainlist.append(fft_img)\n",
    "        train.append(np.array(trainlist))\n",
    "    \n",
    "m, n = img.shape[0], img.shape[1]\n",
    "#print(len(train))\n",
    "#print(train[0].shape)"
   ]
  },
  {
   "cell_type": "code",
   "execution_count": 3,
   "metadata": {},
   "outputs": [
    {
     "name": "stdout",
     "output_type": "stream",
     "text": [
      "creating filters\n",
      "filters are saved!\n"
     ]
    }
   ],
   "source": [
    "print('creating filters')\n",
    "filters = []\n",
    "for t in range(len(train)):\n",
    "    \n",
    "    # X\n",
    "    X = np.array(train[t])\n",
    "    X = X.T\n",
    "    # D and D inverse\n",
    "    asd = np.abs(X)**2\n",
    "    diagon = np.sum(asd, axis=1)\n",
    "    D_diagon = diagon/X.shape[0]\n",
    "    D_inv_diagon = 1/D_diagon\n",
    "    D = np.diag(D_diagon)\n",
    "    D_inv = np.diag(D_inv_diagon)\n",
    "    # U\n",
    "    U = np.ones((X.shape[1], 1))\n",
    "    # X*\n",
    "    C = np.matrix(X)\n",
    "    C = C.getH()\n",
    "    # X* D inverse\n",
    "    a = np.multiply(C,D_inv_diagon)\n",
    "    # X* D inverse X\n",
    "    out = np.zeros((a.shape[0],a.shape[0]), dtype=complex)\n",
    "    for r in range(a.shape[0]):\n",
    "        out[r,:] = np.dot(a[r,:],X)\n",
    "    # (X* D inverse X)inverse\n",
    "    F=np.linalg.inv(out)\n",
    "    # (X* D inverse X)inverse U\n",
    "    Y=np.matmul(F,U)\n",
    "    # D inverse X\n",
    "    E = np.multiply(X.T,D_inv_diagon).T\n",
    "    # H = D inverse X (X* D inverse X)inverse U\n",
    "    h = np.zeros((E.shape[0],Y.shape[1]), dtype=complex)\n",
    "    for r in range(E.shape[0]):\n",
    "        h[r,:] = np.dot(E[r,:],Y)\n",
    "    \n",
    "    H=np.reshape(h,(m,n))\n",
    "    filters.append(H)\n",
    "    filter_df = pd.DataFrame(H, dtype=complex)\n",
    "    #filter_df.to_csv('F://Uni/992/Digital Image Processing/Homeworks/DIP_HW3/outputs/P4/a_mace_filters_csv/hfilter'+str(t)+'.csv',header=False,index=False)\n",
    "    #plt.imsave('F://Uni/992/Digital Image Processing/Homeworks/DIP_HW3/outputs/P4/hfilter'+str(t)+'.png',np.abs(H), cmap='gray')\n",
    "    #plt.imshow(H,cmap='gray')\n",
    "\n",
    "print('filters are saved!')"
   ]
  }
 ],
 "metadata": {
  "kernelspec": {
   "display_name": "Python 3",
   "language": "python",
   "name": "python3"
  },
  "language_info": {
   "codemirror_mode": {
    "name": "ipython",
    "version": 3
   },
   "file_extension": ".py",
   "mimetype": "text/x-python",
   "name": "python",
   "nbconvert_exporter": "python",
   "pygments_lexer": "ipython3",
   "version": "3.6.5"
  }
 },
 "nbformat": 4,
 "nbformat_minor": 2
}
