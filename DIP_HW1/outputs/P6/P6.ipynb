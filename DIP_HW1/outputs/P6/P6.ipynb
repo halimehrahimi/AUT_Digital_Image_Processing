{
 "cells": [
  {
   "cell_type": "code",
   "execution_count": 1,
   "metadata": {},
   "outputs": [],
   "source": [
    "import numpy as np\n",
    "from matplotlib import pyplot as plt\n",
    "import cv2"
   ]
  },
  {
   "cell_type": "code",
   "execution_count": 2,
   "metadata": {},
   "outputs": [],
   "source": [
    "def load_pic(path):\n",
    "    \n",
    "    image = cv2.imread(path)\n",
    "    image = cv2.cvtColor(image, cv2.COLOR_BGR2RGB)\n",
    "\n",
    "    return image"
   ]
  },
  {
   "cell_type": "code",
   "execution_count": 3,
   "metadata": {},
   "outputs": [
    {
     "data": {
      "text/plain": [
       "<Figure size 1440x720 with 0 Axes>"
      ]
     },
     "metadata": {},
     "output_type": "display_data"
    }
   ],
   "source": [
    "picnum = 0 #for saving pictures\n",
    "#Read image\n",
    "fig = plt.figure(figsize = (20,10))\n",
    "tetris = load_pic('F://Uni/992/Digital Image Processing/Homeworks/DIP_HW1/inputs/P6/tetris.png')\n",
    "#plt.imshow(tetris)\n",
    "#plt.show()\n",
    "path = 'F://Uni/992/Digital Image Processing/Homeworks/DIP_HW1/outputs/P6/'\n",
    "#I'm saving this picture just because I included it at the beginning of the video, no exception \n",
    "cv2.imwrite(path+'tetris%d.png'%picnum, cv2.cvtColor(tetris, cv2.COLOR_RGB2BGR))\n",
    "frameSize = (tetris.shape[1], tetris.shape[0])\n",
    "out = cv2.VideoWriter(path+'output_video.avi',cv2.VideoWriter_fourcc(*'DIVX'), 2, frameSize)\n",
    "out.write(cv2.cvtColor(tetris, cv2.COLOR_RGB2BGR))"
   ]
  },
  {
   "cell_type": "code",
   "execution_count": 4,
   "metadata": {},
   "outputs": [],
   "source": [
    "# These are gonna be necessary across the code\n",
    "width = tetris.shape[1]//12\n",
    "height = tetris.shape[0]//22\n",
    "w = width//2\n",
    "h = height//2"
   ]
  },
  {
   "cell_type": "code",
   "execution_count": 5,
   "metadata": {},
   "outputs": [],
   "source": [
    "#gonna be creating the state matrix by checking where in the picture is colored\n",
    "cells = np.zeros((22,12))\n",
    "for i in range(22):\n",
    "    for j in range(12):\n",
    "        if any(tetris[h+i*height, w+j*width]!=0):\n",
    "            cells[i,j]=1"
   ]
  },
  {
   "cell_type": "code",
   "execution_count": 6,
   "metadata": {},
   "outputs": [],
   "source": [
    "#making sure the walls don't get recognized as blocks for what I'm about to do\n",
    "cells[0,:],cells[:,0],cells[-1,:],cells[:,-1] = -1,-1,-1,-1"
   ]
  },
  {
   "cell_type": "code",
   "execution_count": 7,
   "metadata": {},
   "outputs": [],
   "source": [
    "#reading the block pictures\n",
    "i = load_pic('F://Uni/992/Digital Image Processing/Homeworks/DIP_HW1/inputs/P6/I.png')\n",
    "l = load_pic('F://Uni/992/Digital Image Processing/Homeworks/DIP_HW1/inputs/P6/L.png')\n",
    "t = load_pic('F://Uni/992/Digital Image Processing/Homeworks/DIP_HW1/inputs/P6/T.png')\n",
    "o = load_pic('F://Uni/992/Digital Image Processing/Homeworks/DIP_HW1/inputs/P6/O.png')\n",
    "s = load_pic('F://Uni/992/Digital Image Processing/Homeworks/DIP_HW1/inputs/P6/S.png')"
   ]
  },
  {
   "cell_type": "code",
   "execution_count": 8,
   "metadata": {},
   "outputs": [],
   "source": [
    "#I'm turning all the white parts to black, because I'm gonna be using the pictures themselves in the game\n",
    "i[np.all(i==[255,255,255],axis=-1)] =[0,0,0]\n",
    "l[np.all(l==[255,255,255],axis=-1)] =[0,0,0] \n",
    "t[np.all(t==[255,255,255],axis=-1)] =[0,0,0]\n",
    "o[np.all(o==[255,255,255],axis=-1)] =[0,0,0]\n",
    "s[np.all(s==[255,255,255],axis=-1)] =[0,0,0]"
   ]
  },
  {
   "cell_type": "code",
   "execution_count": 9,
   "metadata": {},
   "outputs": [
    {
     "data": {
      "image/png": "[encoded data removed]",
      "text/plain": [
       "<Figure size 1080x720 with 5 Axes>"
      ]
     },
     "metadata": {},
     "output_type": "display_data"
    }
   ],
   "source": [
    "#Just getting to know the blocks\n",
    "fig, ax = plt.subplots(1,5,figsize=(15,10))\n",
    "ax[0].imshow(t)\n",
    "ax[1].imshow(l)\n",
    "ax[2].imshow(s)\n",
    "ax[3].imshow(i)\n",
    "ax[4].imshow(o)\n",
    "plt.show()"
   ]
  },
  {
   "cell_type": "code",
   "execution_count": 10,
   "metadata": {},
   "outputs": [],
   "source": [
    "#Yeap the blocks are gonna be rotating\n",
    "def rotate(img, way):\n",
    "    #well we can't have the same shape sizes as before, can we?\n",
    "    #It's a dot product with rotation matrix, I just implemented it this way :D\n",
    "    shape0 = abs(round((img.shape[0]*(np.cos(way*(np.pi/2))))+(img.shape[1]*(-np.sin(way*(np.pi/2))))))\n",
    "    shape1 = abs(round((img.shape[0]*(np.sin(way*(np.pi/2))))+(img.shape[1]*(np.cos(way*(np.pi/2))))))\n",
    "    imgrotate = np.zeros((shape0,shape1,3))\n",
    "    #gotta rotate so the color values of the new coordinates need to be set to the calculated coordinates\n",
    "    for m in range(imgrotate.shape[0]):\n",
    "        for n in range(imgrotate.shape[1]):\n",
    "            m2 = (m*round(np.cos(way*(np.pi/2))))+(n*round(-np.sin(way*(np.pi/2))))\n",
    "            n2 = (m*round(np.sin(way*(np.pi/2))))+(n*round(np.cos(way*(np.pi/2))))\n",
    "            imgrotate[m,n] = img[m2,n2]\n",
    "    imgrotate = imgrotate.astype('uint8')\n",
    "    return imgrotate"
   ]
  },
  {
   "cell_type": "code",
   "execution_count": 11,
   "metadata": {},
   "outputs": [],
   "source": [
    "#using this for creating the new state and the new tetris picture\n",
    "def next_state(current, letter, way, px, py):\n",
    "    if letter=='i':\n",
    "        img = i\n",
    "    elif letter=='l':\n",
    "        img = l\n",
    "    elif letter=='t':\n",
    "        img = t\n",
    "    elif letter=='o':\n",
    "        img = o\n",
    "    else:\n",
    "        img = s\n",
    "    if way!=0:\n",
    "        img = rotate(img, way)\n",
    "    \n",
    "    tetristate = tetris.copy()\n",
    "    #needed np.max for when a block has sat upon another block so it doesn't make that part black\n",
    "    #and needed to use the block shape to make space for the block\n",
    "    tetristate[px*width:px*width+img.shape[0], py*height:py*height+img.shape[1]] = np.max(\n",
    "        [tetristate[px*width:px*width+img.shape[0], py*height:py*height+img.shape[1]],img],axis=0)\n",
    "    \n",
    "    state = current.copy()\n",
    "    #trying to figure out the colored parts in the block\n",
    "    mat = []\n",
    "    for m in range(img.shape[0]//100):\n",
    "        r = []\n",
    "        for n in range(img.shape[1]//100):\n",
    "            if any(img[h+m*height, w+n*width]!=0):\n",
    "                r.append(1)\n",
    "            else:\n",
    "                r.append(0)\n",
    "        mat.append(r)\n",
    "    mat=np.array(mat)\n",
    "    #to use it in setting the new state\n",
    "    state[px:px+mat.shape[0], py: py+mat.shape[1]] = mat\n",
    "    \n",
    "    return state, tetristate"
   ]
  },
  {
   "cell_type": "code",
   "execution_count": 12,
   "metadata": {},
   "outputs": [],
   "source": [
    "def run(picnum, current, tetris, letter, way, px, py, isset):\n",
    "    state, tetristate = next_state(current, letter, way, px, py)\n",
    "    #fig = plt.figure(figsize = (20,10))\n",
    "    #plt.imshow(tetristate)\n",
    "    #plt.show()\n",
    "    picnum+=1\n",
    "    cv2.imwrite(path+'tetris%d.png'%picnum, cv2.cvtColor(tetristate, cv2.COLOR_RGB2BGR))\n",
    "    out.write(cv2.cvtColor(tetristate, cv2.COLOR_RGB2BGR))\n",
    "    #this isset is for when the block is gonna be sitting upon another block\n",
    "    #because the main tetris picture and the main state matrix change\n",
    "    if isset:\n",
    "        #and also we need to check if any row is filled and remove them\n",
    "        delrow = []\n",
    "        for row in range(state.shape[0]):\n",
    "            if all(state[row,1:-1]>0):\n",
    "                delrow.append(row)\n",
    "        if len(delrow)>0:\n",
    "            for d in delrow:\n",
    "                #the pixels on top of that row and the state elements get one row lower\n",
    "                state[2:d+1,:] = state[1:d,:]\n",
    "                state[1,:] = np.append(np.append([-1], np.zeros(state.shape[1]-2)), [-1])\n",
    "                tetristate[2*height:(d+1)*height, :] = tetristate[height:d*height, :]\n",
    "                #fig = plt.figure(figsize = (20,10))\n",
    "                #plt.imshow(tetristate)\n",
    "                #plt.show()\n",
    "                picnum+=1\n",
    "                cv2.imwrite(path+'tetris%d.png'%picnum, cv2.cvtColor(tetristate, cv2.COLOR_RGB2BGR))\n",
    "                out.write(cv2.cvtColor(tetristate, cv2.COLOR_RGB2BGR))\n",
    "        tetris = tetristate\n",
    "        current = state\n",
    "    #print(current)\n",
    "    return picnum, current, tetris"
   ]
  },
  {
   "cell_type": "code",
   "execution_count": 13,
   "metadata": {},
   "outputs": [],
   "source": [
    "tlist = list([['t',0,1,5], ['t',1,2,5], ['t',1,3,5], ['t',1,3,4], ['t',1,4,4], ['t',1,5,4],\n",
    "             ['t',1,5,3], ['t',1,6,3], ['t',1,6,2], ['t',1,7,2], ['t',1,7,1], ['t',1,8,1],\n",
    "            ['t',1,9,1]])\n",
    "llist = list([['l',0,1,5], ['l',1,2,5], ['l',1,3,5], ['l',1,3,4], ['l',1,4,4], ['l',1,5,4],\n",
    "             ['l',1,5,3], ['l',1,6,3], ['l',1,7,3], ['l',1,8,3], ['l',1,9,3], ['l',1,10,3]])\n",
    "slist = list([['s',0,1,5], ['s',1,2,5], ['s',1,3,5], ['s',2,3,5], ['s',2,4,5], ['s',3,4,5],\n",
    "             ['s',3,5,5], ['s',3,6,5], ['s',3,6,6], ['s',3,7,6], ['s',3,8,6], ['s',3,9,6]])\n",
    "ilist = list([['i',0,1,5], ['i',0,2,5], ['i',0,2,6], ['i',0,3,6], ['i',0,3,7], ['i',0,4,7],\n",
    "             ['i',0,4,8], ['i',0,5,8], ['i',0,5,9], ['i',0,6,9], ['i',0,6,10], ['i',0,7,10],\n",
    "            ['i',0,8,10],['i',0,9,10],['i',0,10,10],['i',0,11,10],['i',0,12,10],['i',0,13,10],\n",
    "             ['i',0,14,10],['i',0,15,10],['i',0,16,10]])\n",
    "olist = list([['o',0,1,5], ['o',0,2,5], ['o',1,2,6], ['o',1,3,6], ['o',2,3,7], ['o',2,4,7],\n",
    "             ['o',3,4,8], ['o',3,5,8], ['o',0,5,9], ['o',0,6,9], ['o',0,7,9],\n",
    "            ['o',0,8,9],['o',0,9,9],['o',0,10,9],['o',0,11,9],['o',0,12,9],['o',0,13,9],\n",
    "             ['o',0,14,9],['o',0,15,9],['o',0,16,9],['o',0,17,9],['o',0,18,9]])"
   ]
  },
  {
   "cell_type": "code",
   "execution_count": 14,
   "metadata": {},
   "outputs": [],
   "source": [
    "picnum = 0\n",
    "for move in tlist:\n",
    "    picnum, cells, tetris = run(picnum, cells, tetris, move[0],move[1],move[2],move[3], False)\n",
    "picnum, cells, tetris = run(picnum, cells, tetris, 't',1,10,1, True)\n",
    "for move in llist:\n",
    "    picnum, cells, tetris = run(picnum, cells, tetris, move[0],move[1],move[2],move[3], False)\n",
    "picnum, cells, tetris = run(picnum, cells, tetris, 'l',1,11,3, True)\n",
    "for move in slist:\n",
    "    picnum, cells, tetris = run(picnum, cells, tetris, move[0],move[1],move[2],move[3], False)\n",
    "picnum, cells, tetris = run(picnum, cells, tetris, 's',3,10,6, True)\n",
    "for move in ilist:\n",
    "    picnum, cells, tetris = run(picnum, cells, tetris, move[0],move[1],move[2],move[3], False)\n",
    "picnum, cells, tetris = run(picnum, cells, tetris, 'i',0,17,10, True)\n",
    "for move in olist:\n",
    "    picnum, cells, tetris = run(picnum, cells, tetris, move[0],move[1],move[2],move[3], False)\n",
    "picnum, cells, tetris = run(picnum, cells, tetris, 'o',0,19,9, True)"
   ]
  },
  {
   "cell_type": "code",
   "execution_count": 15,
   "metadata": {},
   "outputs": [],
   "source": [
    "out.release()"
   ]
  },
  {
   "cell_type": "code",
   "execution_count": 16,
   "metadata": {},
   "outputs": [
    {
     "data": {
      "image/png": "[encoded data removed]",
      "text/plain": [
       "<Figure size 432x288 with 1 Axes>"
      ]
     },
     "metadata": {},
     "output_type": "display_data"
    }
   ],
   "source": [
    "plt.title('The Last Condition of Tetris')\n",
    "plt.imshow(tetris)\n",
    "plt.show()"
   ]
  }
 ],
 "metadata": {
  "kernelspec": {
   "display_name": "Python 3",
   "language": "python",
   "name": "python3"
  },
  "language_info": {
   "codemirror_mode": {
    "name": "ipython",
    "version": 3
   },
   "file_extension": ".py",
   "mimetype": "text/x-python",
   "name": "python",
   "nbconvert_exporter": "python",
   "pygments_lexer": "ipython3",
   "version": "3.6.5"
  }
 },
 "nbformat": 4,
 "nbformat_minor": 2
}
