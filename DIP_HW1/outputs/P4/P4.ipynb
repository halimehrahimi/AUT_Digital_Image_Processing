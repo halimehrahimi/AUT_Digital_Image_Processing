{
 "cells": [
  {
   "cell_type": "code",
   "execution_count": null,
   "metadata": {},
   "outputs": [],
   "source": [
    "import numpy as np\n",
    "import matplotlib.pyplot as plt\n",
    "import cv2\n",
    "import math\n",
    "from sklearn.metrics.pairwise import euclidean_distances"
   ]
  },
  {
   "cell_type": "markdown",
   "metadata": {},
   "source": [
    "# Functions"
   ]
  },
  {
   "cell_type": "code",
   "execution_count": null,
   "metadata": {},
   "outputs": [],
   "source": [
    "def load_pic(path):\n",
    "    \n",
    "    image = cv2.imread(path)\n",
    "    image = cv2.cvtColor(image, cv2.COLOR_BGR2RGB)\n",
    "    \n",
    "    return image"
   ]
  },
  {
   "cell_type": "code",
   "execution_count": null,
   "metadata": {},
   "outputs": [],
   "source": [
    "def keep_red(img):\n",
    "    pic = img.reshape(img.shape[0]*img.shape[1],3)\n",
    "    keep = np.zeros(pic.shape[0])\n",
    "    keep[np.where(euclidean_distances(pic, np.expand_dims(red, axis=0))<=36)[0]] = 1\n",
    "    keep = keep.reshape(img.shape[0],img.shape[1])\n",
    "    numbers = np.where(keep != 0)\n",
    "    location_red = np.array([numbers[0], numbers[1]]).T\n",
    "    \n",
    "    return location_red"
   ]
  },
  {
   "cell_type": "code",
   "execution_count": null,
   "metadata": {},
   "outputs": [],
   "source": [
    "def keep_white(img):\n",
    "    pic = img.reshape(img.shape[0]*img.shape[1],3)\n",
    "    keep = np.zeros(pic.shape[0])\n",
    "    keep[np.where(euclidean_distances(pic, np.expand_dims(white, axis=0))<=8)[0]] = 1\n",
    "    keep = keep.reshape(img.shape[0],img.shape[1])\n",
    "    numbers = np.where(keep != 0)\n",
    "    location_white = np.array([numbers[0], numbers[1]]).T\n",
    "    \n",
    "    return location_white"
   ]
  },
  {
   "cell_type": "code",
   "execution_count": null,
   "metadata": {},
   "outputs": [],
   "source": [
    "def ncc(a,b):\n",
    "    try:\n",
    "        return(np.sum(np.corrcoef(a.ravel(),b.ravel())))\n",
    "    except:\n",
    "        return 100000\n",
    "\n",
    "def ncc_similarity(a, b, location, h, w, lower, upper):\n",
    "    min_ncc = []\n",
    "    output = []\n",
    "    for l in location:\n",
    "        nccDiff = ncc(a, b[l[0]-h:l[0]+h,l[1]-w:l[1]+w])\n",
    "        \n",
    "        if nccDiff > lower and nccDiff < upper:\n",
    "            min_ncc.append(nccDiff)\n",
    "            output.append(l)\n",
    "    return output, min_ncc"
   ]
  },
  {
   "cell_type": "code",
   "execution_count": null,
   "metadata": {},
   "outputs": [],
   "source": [
    "def find_wally(template, img, percent, lower, upper):\n",
    "    numbers = np.where(np.all(img != [0,0,0], axis=-1))\n",
    "    location = np.array([numbers[0], numbers[1]]).T\n",
    "    \n",
    "    # resize image if necessary\n",
    "    scale_percent = percent\n",
    "    width = int(template.shape[1] * scale_percent / 100)\n",
    "    height = int(template.shape[0] * scale_percent / 100)\n",
    "    dim = (width, height)\n",
    "    template_re = cv2.resize(template, dim, interpolation = cv2.INTER_AREA)\n",
    "    \n",
    "    h = math.ceil(height/2)\n",
    "    w = math.ceil(width/2)\n",
    "    \n",
    "    out, minncc = ncc_similarity(template_re, img, location, h, w, lower, upper)\n",
    "    \n",
    "    return out,minncc,h,w"
   ]
  },
  {
   "cell_type": "code",
   "execution_count": null,
   "metadata": {},
   "outputs": [],
   "source": [
    "def wheres_wally(template, img, percent, lower, upper):\n",
    "    location_red = keep_red(img)\n",
    "    new = np.zeros(img.shape)\n",
    "    for l in location_red:\n",
    "        new[l[0]-40:l[0]+40,l[1]-40:l[1]+40] = img[l[0]-40:l[0]+40,l[1]-40:l[1]+40]\n",
    "    #fig = plt.figure(figsize=(20,12))\n",
    "    new = new.astype('uint8')\n",
    "    #plt.imshow(new)\n",
    "    #plt.show()\n",
    "    \n",
    "    location_white = keep_white(new)\n",
    "    new2 = np.zeros(img.shape)\n",
    "    for l in location_white:\n",
    "        new2[l[0]-40:l[0]+40,l[1]-40:l[1]+40] = new[l[0]-40:l[0]+40,l[1]-40:l[1]+40]\n",
    "    new2 = new2.astype('uint8')\n",
    "    fig = plt.figure(figsize=(20,12))\n",
    "    plt.imshow(new2)\n",
    "    plt.show()\n",
    "    \n",
    "    wallyloc, minncc, wallyh, wallyw = find_wally(template, new2, percent, lower, upper)\n",
    "    \n",
    "    for l in wallyloc:\n",
    "        cv2.rectangle(img, (l[1]-wallyw, l[0]-wallyh), (l[1]+wallyw, l[0]+wallyh), (255, 0, 0), 3)\n",
    "\n",
    "    fig = plt.figure(figsize = (10,20))\n",
    "    plt.imshow(img)\n",
    "    plt.show()\n",
    "    return wallyloc,minncc"
   ]
  },
  {
   "cell_type": "markdown",
   "metadata": {},
   "source": [
    "# Initialization"
   ]
  },
  {
   "cell_type": "code",
   "execution_count": null,
   "metadata": {},
   "outputs": [],
   "source": [
    "path = 'F://Uni/992/Digital Image Processing/Homeworks/DIP_HW1/inputs/P4/'\n",
    "\n",
    "wally1 = load_pic(path+'wally_1.jpg')\n",
    "#plt.imshow(wally1)\n",
    "red1 = np.array([wally1[100,20]])\n",
    "white1 = np.array([wally1[90,10]])\n",
    "\n",
    "wally2 = load_pic(path+'wally_2.jpg')\n",
    "#plt.imshow(wally2)\n",
    "red2 = np.array([wally2[100,10]])\n",
    "white2 = np.array([wally2[90,10]])\n",
    "\n",
    "wally3 = load_pic(path+'wally_3.jpg')\n",
    "#plt.imshow(wally3)\n",
    "red3 = np.array([wally3[120,10]])\n",
    "white3 = np.array([wally3[95,15]])\n",
    "\n",
    "wally4 = load_pic(path+'wally_4.jpg')\n",
    "#plt.imshow(wally4)\n",
    "red4 = np.array([wally4[95,15]])\n",
    "white4 = np.array([wally4[105,15]])\n",
    "\n",
    "wally5 = load_pic(path+'wally_5.jpg')\n",
    "#plt.imshow(wally5)\n",
    "red5 = np.array([wally5[78,15]])\n",
    "white5 = np.array([wally5[59,17]])\n",
    "\n",
    "where1 = load_pic(path + 'wheres_wally_1.jpg')\n",
    "#plt.imshow(where1)\n",
    "where2 = load_pic(path + 'wheres_wally_2.jpg')\n",
    "#plt.imshow(where1)\n",
    "where3 = load_pic(path + 'wheres_wally_3.jpg')\n",
    "#plt.imshow(where1)\n",
    "where4 = load_pic(path + 'wheres_wally_4.jpg')\n",
    "#plt.imshow(where1)"
   ]
  },
  {
   "cell_type": "code",
   "execution_count": null,
   "metadata": {},
   "outputs": [],
   "source": [
    "redmat = np.concatenate((red1,red2,red3,red4,red5), axis=0)\n",
    "whitemat = np.concatenate((white1,white2,white3,white4,white5), axis=0)\n",
    "red = redmat.mean(axis=0).astype(int)\n",
    "white = whitemat.mean(axis=0).astype(int)\n",
    "colors = np.array([red,white])\n",
    "print('Red: ', red)\n",
    "print('White: ', white)"
   ]
  },
  {
   "cell_type": "markdown",
   "metadata": {},
   "source": [
    "# Where's Wally image 1"
   ]
  },
  {
   "cell_type": "code",
   "execution_count": null,
   "metadata": {},
   "outputs": [],
   "source": [
    "wallyloc, minncc = wheres_wally(wally2, where1, 50, 2.47874, 2.47875)"
   ]
  },
  {
   "cell_type": "markdown",
   "metadata": {},
   "source": [
    "# Where's Wally image 2"
   ]
  },
  {
   "cell_type": "code",
   "execution_count": null,
   "metadata": {},
   "outputs": [],
   "source": [
    "wallyloc, minncc = wheres_wally(wally2, where2, 80, 2.23547426, 2.23547427)"
   ]
  },
  {
   "cell_type": "markdown",
   "metadata": {},
   "source": [
    "# Where's Wally image 3"
   ]
  },
  {
   "cell_type": "code",
   "execution_count": null,
   "metadata": {},
   "outputs": [],
   "source": [
    "wallyloc, minncc = wheres_wally(wally2, where3, 90, 2.167502, 2.167503)"
   ]
  },
  {
   "cell_type": "markdown",
   "metadata": {},
   "source": [
    "# Where's Wally image 4"
   ]
  },
  {
   "cell_type": "code",
   "execution_count": null,
   "metadata": {},
   "outputs": [],
   "source": [
    "wallyloc, minncc = wheres_wally(wally2, where4, 80, 2.46356, 2.46357)"
   ]
  }
 ],
 "metadata": {
  "kernelspec": {
   "display_name": "Python 3",
   "language": "python",
   "name": "python3"
  },
  "language_info": {
   "codemirror_mode": {
    "name": "ipython",
    "version": 3
   },
   "file_extension": ".py",
   "mimetype": "text/x-python",
   "name": "python",
   "nbconvert_exporter": "python",
   "pygments_lexer": "ipython3",
   "version": "3.6.5"
  }
 },
 "nbformat": 4,
 "nbformat_minor": 2
}
